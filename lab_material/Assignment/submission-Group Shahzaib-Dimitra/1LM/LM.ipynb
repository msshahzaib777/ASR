{
 "cells": [
  {
   "cell_type": "code",
   "execution_count": 3,
   "id": "59274830-92ad-4dd8-acf2-8fbebd705426",
   "metadata": {},
   "outputs": [],
   "source": [
    "import math"
   ]
  },
  {
   "cell_type": "code",
   "execution_count": 1,
   "id": "05050a6a-d1ea-4034-8fd0-0a2b681fbe31",
   "metadata": {},
   "outputs": [
    {
     "ename": "ModuleNotFoundError",
     "evalue": "No module named 'pocketsphinx'",
     "output_type": "error",
     "traceback": [
      "\u001b[1;31m---------------------------------------------------------------------------\u001b[0m",
      "\u001b[1;31mModuleNotFoundError\u001b[0m                       Traceback (most recent call last)",
      "Cell \u001b[1;32mIn [1], line 2\u001b[0m\n\u001b[0;32m      1\u001b[0m \u001b[39mfrom\u001b[39;00m \u001b[39mos\u001b[39;00m \u001b[39mimport\u001b[39;00m environ, path, walk\n\u001b[1;32m----> 2\u001b[0m \u001b[39mfrom\u001b[39;00m \u001b[39mpocketsphinx\u001b[39;00m \u001b[39mimport\u001b[39;00m \u001b[39m*\u001b[39m\n\u001b[0;32m      3\u001b[0m \u001b[39mfrom\u001b[39;00m \u001b[39msphinxbase\u001b[39;00m \u001b[39mimport\u001b[39;00m \u001b[39m*\u001b[39m\n\u001b[0;32m      4\u001b[0m \u001b[39mimport\u001b[39;00m \u001b[39mfnmatch\u001b[39;00m\n",
      "\u001b[1;31mModuleNotFoundError\u001b[0m: No module named 'pocketsphinx'"
     ]
    }
   ],
   "source": [
    "from os import environ, path, walk\n",
    "from pocketsphinx import *\n",
    "from sphinxbase import *\n",
    "import fnmatch\n",
    "import json\n",
    "from jiwer import wer\n",
    "import math\n",
    "\n",
    "relative_path = \"../../td_corpus_digits\"\n",
    "pwd = os.getcwd()\n",
    "previous = len(\"1LM\")\n",
    "pwd = pwd[:len(pwd)-previous]\n",
    "#wer -i SNR35dB_Manrulen.ref SNR35dB_Manrulen.hyp > SNR35dB_Manrulen.res"
   ]
  },
  {
   "cell_type": "code",
   "execution_count": 1,
   "id": "ac36766d-9fd7-47b5-a644-7c534809f8b4",
   "metadata": {},
   "outputs": [],
   "source": [
    "def find_files(filename, search_path):\n",
    "   result = []\n",
    "\n",
    "   # Wlaking top-down from the root\n",
    "   for root, dir, files in os.walk(search_path):\n",
    "      for file in files:\n",
    "         if file.__contains__(\".raw\"):        \n",
    "            result.append(os.path.join(root, file))\n",
    "   return result\n",
    "\n",
    "def calculate_CI(wer, noSen):\n",
    "    return 1.960 * math.sqrt((wer*(1-wer))/noSen)\n",
    "\n",
    "\n",
    "def create_decoder_ngram(dic, grammar):\n",
    "    \"\"\"Create a decoder based on the Ngram language model\"\"\"\n",
    "    config = Decoder.default_config()\n",
    "    config.set_string('-hmm', pwd +'ps_data/model/en-us')  # acoustic model\n",
    "    config.set_string('-dict', pwd +'ps_data/lex/' + dic)  # lexicon / dictionary\n",
    "    config.set_string('-lm', pwd +'ps_data/lm/en-us.lm.bin')  # language model\n",
    "    decoder_ngram = Decoder(config)\n",
    "    return decoder_ngram\n",
    "\n",
    "def create_decoder_digits(dic, grammar, rule):\n",
    "    config = Decoder.default_config()\n",
    "    config.set_string('-hmm', pwd +'ps_data/model/en-us')  # acoustic model\n",
    "    config.set_string('-dict', pwd +'ps_data/lex/' + dic)  # lexicon / dictionary\n",
    "    decoder_digit = Decoder(config)\n",
    "\n",
    "    # Now we use a custom language model\n",
    "    # Prepare the grammar to be used\n",
    "    jsgf = Jsgf(pwd +'ps_data/jsgf/' + grammar)  # load the grammar file\n",
    "    rule = jsgf.get_rule('digits.' + rule)  # choose the rule\n",
    "    fsg = jsgf.build_fsg(rule, decoder_digit.get_logmath(), 7.5)  # build the grammar rule\n",
    "    fsg.writefile('../outputs/' + grammar)  # write the compiled grammar rule as an external file\n",
    "\n",
    "    # Now set the fsg grammar rule in the decoder\n",
    "    decoder_digit.set_fsg(\"../outputs/\" + grammar, fsg)  # load the pre-recorded compiled grammar rule in the decoder\n",
    "    decoder_digit.set_search(\"../outputs/\" + grammar)  # and set it as the grammar to use\n",
    "\n",
    "    return decoder_digit"
   ]
  },
  {
   "cell_type": "code",
   "execution_count": 4,
   "id": "3f53738f",
   "metadata": {},
   "outputs": [],
   "source": [
    "def rundecoder(file_path, decoder):\n",
    "    # Start the decoder\n",
    "    decoder.start_utt()\n",
    "\n",
    "    # Open the file to decode\n",
    "    stream = open(file_path, 'rb')\n",
    "    uttbuf = stream.read(-1)\n",
    "\n",
    "    # Process the file with the decoder\n",
    "    if uttbuf:\n",
    "        decoder.process_raw(uttbuf, False, True)\n",
    "    else:\n",
    "        print(\"Error reading speech data\")\n",
    "        exit()\n",
    "    decoder.end_utt()\n",
    "\n",
    "    # test for empty hypothesis and replace the output with an empty string if needed\n",
    "    if decoder.hyp() is None:\n",
    "        best_hypothesis = ''\n",
    "    else:\n",
    "        best_hypothesis = decoder.hyp().hypstr\n",
    "\n",
    "    #reading ref file for WER\n",
    "    with open(file_path[:len(file_path)-3] + \"ref\") as f:\n",
    "        actualY = f.readlines()\n",
    "    \n",
    "    wordErrorRate = wer(actualY, best_hypothesis)\n",
    "\n",
    "    return {\n",
    "    \"fileName\": file_path.split(\"/\")[-1],\n",
    "    \"prediction\": best_hypothesis,\n",
    "    \"actual\": actualY[0].replace(\"\\n\", \"\"), \n",
    "    \"confidence\": decoder.get_logmath().exp(decoder.hyp().prob),\n",
    "    \"wer\" : wordErrorRate}"
   ]
  },
  {
   "cell_type": "code",
   "execution_count": 47,
   "id": "3356caef",
   "metadata": {},
   "outputs": [],
   "source": [
    "def processWav(waves, rule, group=\"\"):\n",
    "    decoder = create_decoder_digits(\"digits.dict\", \"digits.jsgf\", rule)\n",
    "    ruleN_result = []\n",
    "    for wav in waves:\n",
    "        ruleN_result.append(rundecoder(wav, decoder))\n",
    "\n",
    "    #this is to dump hyp\n",
    "    with open(group + rule + '.hyp', 'w') as f:\n",
    "        for i in ruleN_result:\n",
    "            f.write(i[\"prediction\"])\n",
    "            f.write(\"\\n\")\n",
    "\n",
    "    #this is to dump ref\n",
    "    with open(group + rule + '.ref', 'w') as f:\n",
    "        for i in ruleN_result:\n",
    "            f.write(i[\"actual\"])\n",
    "            f.write(\"\\n\")"
   ]
  },
  {
   "cell_type": "code",
   "execution_count": 48,
   "id": "6dc1da15",
   "metadata": {},
   "outputs": [],
   "source": [
    "folder_path = pwd + \"td_corpus_digits/SNR35dB/man/seq1digit_200_files/\"\n",
    "wavFiles1 = find_files(\".raw\",folder_path)\n",
    "\n",
    "folder_path = pwd + \"td_corpus_digits/SNR35dB/man/seq3digits_100_files/\"\n",
    "wavFiles3 = find_files(\".raw\",folder_path)\n",
    "\n",
    "folder_path = pwd + \"td_corpus_digits/SNR35dB/man/seq5digits_100_files/\"\n",
    "wavFiles5 = find_files(\".raw\",folder_path)\n",
    "#Generic ngram"
   ]
  },
  {
   "cell_type": "code",
   "execution_count": null,
   "id": "4787d82e",
   "metadata": {},
   "outputs": [],
   "source": [
    "#ruleN\n",
    "wavFiles = wavFiles1\n",
    "wavFiles.extend(wavFiles3)\n",
    "wavFiles.extend(wavFiles5)\n",
    "processWav(wavFiles, \"rulen\", group=\"SNR35dB_Man\")"
   ]
  },
  {
   "cell_type": "code",
   "execution_count": 56,
   "id": "6db06311",
   "metadata": {},
   "outputs": [
    {
     "name": "stdout",
     "output_type": "stream",
     "text": [
      "0.03564749158075502\n"
     ]
    }
   ],
   "source": [
    "conf_interval_ruleN = calculate_CI(0.273, 600)\n",
    "print(conf_interval_ruleN)"
   ]
  },
  {
   "cell_type": "code",
   "execution_count": null,
   "id": "d46d1a9e",
   "metadata": {},
   "outputs": [],
   "source": [
    "#rule1\n",
    "processWav(wavFiles1, \"rule1\", group=\"SNR35dB_Man\")"
   ]
  },
  {
   "cell_type": "code",
   "execution_count": 10,
   "id": "70e8fa92",
   "metadata": {},
   "outputs": [
    {
     "name": "stdout",
     "output_type": "stream",
     "text": [
      "0.9775469298197402\n"
     ]
    }
   ],
   "source": [
    "conf_interval_rule1 = calculate_CI(0.005, 200)\n",
    "print(conf_interval_rule1*100)"
   ]
  },
  {
   "cell_type": "code",
   "execution_count": null,
   "id": "560aaac9",
   "metadata": {},
   "outputs": [],
   "source": [
    "#rule3\n",
    "processWav(wavFiles3, \"rule3\", group=\"SNR35dB_Man\")"
   ]
  },
  {
   "cell_type": "code",
   "execution_count": 11,
   "id": "386a445e",
   "metadata": {},
   "outputs": [
    {
     "name": "stdout",
     "output_type": "stream",
     "text": [
      "2.5094209292536003\n"
     ]
    }
   ],
   "source": [
    "conf_interval_rule3 = calculate_CI(0.01667, 100)\n",
    "print(conf_interval_rule3*100)"
   ]
  },
  {
   "cell_type": "code",
   "execution_count": null,
   "id": "eb0da33d",
   "metadata": {},
   "outputs": [],
   "source": [
    "#rule5\n",
    "processWav(wavFiles5, \"rule5\", group=\"SNR35dB_Man\")"
   ]
  },
  {
   "cell_type": "code",
   "execution_count": 13,
   "id": "b2577940",
   "metadata": {},
   "outputs": [
    {
     "name": "stdout",
     "output_type": "stream",
     "text": [
      "1.950175376728975\n"
     ]
    }
   ],
   "source": [
    "conf_interval_rule5 = calculate_CI(0.01, 100)\n",
    "print(conf_interval_rule5*100)"
   ]
  },
  {
   "cell_type": "code",
   "execution_count": 54,
   "id": "09ce187f",
   "metadata": {},
   "outputs": [],
   "source": [
    "def processWavNgram(waves, group=\"\"):\n",
    "    decoder = create_decoder_ngram(\"digits.dict\", \"digits.jsgf\")\n",
    "    ruleN_result = []\n",
    "    for wav in waves:\n",
    "        ruleN_result.append(rundecoder(wav, decoder))\n",
    "\n",
    "    #this is to dump hyp\n",
    "    with open(group + '.hyp', 'w') as f:\n",
    "        for i in ruleN_result:\n",
    "            f.write(i[\"prediction\"])\n",
    "            f.write(\"\\n\")\n",
    "\n",
    "    #this is to dump ref\n",
    "    with open(group + '.ref', 'w') as f:\n",
    "        for i in ruleN_result:\n",
    "            f.write(i[\"actual\"])\n",
    "            f.write(\"\\n\")"
   ]
  },
  {
   "cell_type": "code",
   "execution_count": null,
   "id": "07cf8509",
   "metadata": {},
   "outputs": [],
   "source": [
    "#NGram\n",
    "wavFiles = wavFiles1\n",
    "wavFiles.extend(wavFiles3)\n",
    "wavFiles.extend(wavFiles5)\n",
    "processWavNgram(wavFiles, group=\"SNR35dB_Man\")"
   ]
  },
  {
   "cell_type": "code",
   "execution_count": 5,
   "id": "ef3289fc",
   "metadata": {},
   "outputs": [
    {
     "name": "stdout",
     "output_type": "stream",
     "text": [
      "1.5969703655359422\n"
     ]
    }
   ],
   "source": [
    "conf_interval_Ngram = calculate_CI(0.0273, 400)\n",
    "print(conf_interval_Ngram*100)"
   ]
  }
 ],
 "metadata": {
  "kernelspec": {
   "display_name": "IDMC",
   "language": "python",
   "name": "idmc"
  },
  "language_info": {
   "codemirror_mode": {
    "name": "ipython",
    "version": 3
   },
   "file_extension": ".py",
   "mimetype": "text/x-python",
   "name": "python",
   "nbconvert_exporter": "python",
   "pygments_lexer": "ipython3",
   "version": "3.10.6"
  },
  "vscode": {
   "interpreter": {
    "hash": "01277ed19dd0017932a54a8a0aaec2debdd7f379246510f558f4aa7f17b3bf32"
   }
  }
 },
 "nbformat": 4,
 "nbformat_minor": 5
}
