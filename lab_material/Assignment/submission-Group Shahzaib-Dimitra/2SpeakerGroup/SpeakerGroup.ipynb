{
 "cells": [
  {
   "cell_type": "code",
   "execution_count": 1,
   "id": "a30cc50b",
   "metadata": {},
   "outputs": [],
   "source": [
    "from os import environ, path, walk\n",
    "from pocketsphinx import *\n",
    "from sphinxbase import *\n",
    "import fnmatch\n",
    "import json\n",
    "from jiwer import wer\n",
    "import math\n",
    "\n",
    "relative_path = \"../../td_corpus_digits\"\n",
    "pwd = os.getcwd()\n",
    "previous = len(\"2SpeakerGroup\")\n",
    "pwd = pwd[:len(pwd)-previous]\n",
    "#wer -i SNR35dB_Manrulen.ref SNR35dB_Manrulen.hyp > SNR35dB_Manrulen.res"
   ]
  },
  {
   "cell_type": "code",
   "execution_count": 2,
   "id": "ac36766d-9fd7-47b5-a644-7c534809f8b4",
   "metadata": {},
   "outputs": [],
   "source": [
    "def find_files(filename, search_path):\n",
    "   result = []\n",
    "\n",
    "   # Wlaking top-down from the root\n",
    "   for root, dir, files in os.walk(search_path):\n",
    "      for file in files:\n",
    "         if file.__contains__(\".raw\"):        \n",
    "            result.append(os.path.join(root, file))\n",
    "   return result\n",
    "\n",
    "def calculate_CI(wer, noSen):\n",
    "    return 1.960 * math.sqrt((wer*(1-wer))/noSen)\n",
    "\n",
    "def create_decoder_digits(dic, grammar, rule):\n",
    "    config = Decoder.default_config()\n",
    "    config.set_string('-hmm', pwd +'ps_data/model/en-us')  # acoustic model\n",
    "    config.set_string('-dict', pwd +'ps_data/lex/' + dic)  # lexicon / dictionary\n",
    "    decoder_digit = Decoder(config)\n",
    "\n",
    "    # Now we use a custom language model\n",
    "    # Prepare the grammar to be used\n",
    "    jsgf = Jsgf(pwd +'ps_data/jsgf/' + grammar)  # load the grammar file\n",
    "    rule = jsgf.get_rule('digits.' + rule)  # choose the rule\n",
    "    fsg = jsgf.build_fsg(rule, decoder_digit.get_logmath(), 7.5)  # build the grammar rule\n",
    "    fsg.writefile('../outputs/' + grammar)  # write the compiled grammar rule as an external file\n",
    "\n",
    "    # Now set the fsg grammar rule in the decoder\n",
    "    decoder_digit.set_fsg(\"../outputs/\" + grammar, fsg)  # load the pre-recorded compiled grammar rule in the decoder\n",
    "    decoder_digit.set_search(\"../outputs/\" + grammar)  # and set it as the grammar to use\n",
    "\n",
    "    return decoder_digit"
   ]
  },
  {
   "cell_type": "code",
   "execution_count": 3,
   "id": "3f53738f",
   "metadata": {},
   "outputs": [],
   "source": [
    "def rundecoder(file_path, decoder):\n",
    "    # Start the decoder\n",
    "    decoder.start_utt()\n",
    "\n",
    "    # Open the file to decode\n",
    "    stream = open(file_path, 'rb')\n",
    "    uttbuf = stream.read(-1)\n",
    "\n",
    "    # Process the file with the decoder\n",
    "    if uttbuf:\n",
    "        decoder.process_raw(uttbuf, False, True)\n",
    "    else:\n",
    "        print(\"Error reading speech data\")\n",
    "        exit()\n",
    "    decoder.end_utt()\n",
    "\n",
    "    # test for empty hypothesis and replace the output with an empty string if needed\n",
    "    if decoder.hyp() is None:\n",
    "        best_hypothesis = ''\n",
    "    else:\n",
    "        best_hypothesis = decoder.hyp().hypstr\n",
    "\n",
    "    #reading ref file for WER\n",
    "    with open(file_path[:len(file_path)-3] + \"ref\") as f:\n",
    "        actualY = f.readlines()\n",
    "    \n",
    "    wordErrorRate = wer(actualY, best_hypothesis)\n",
    "\n",
    "    return {\n",
    "    \"fileName\": file_path.split(\"/\")[-1],\n",
    "    \"prediction\": best_hypothesis,\n",
    "    \"actual\": actualY[0].replace(\"\\n\", \"\"), \n",
    "    # \"confidence\": decoder.get_logmath().exp(decoder.hyp().prob),\n",
    "    \"wer\" : wordErrorRate}"
   ]
  },
  {
   "cell_type": "code",
   "execution_count": 4,
   "id": "3356caef",
   "metadata": {},
   "outputs": [],
   "source": [
    "def processWav(waves, rule, group=\"\"):\n",
    "    decoder = create_decoder_digits(\"digits.dict\", \"digits.jsgf\", rule)\n",
    "    ruleN_result = []\n",
    "    for wav in waves:\n",
    "        ruleN_result.append(rundecoder(wav, decoder))\n",
    "\n",
    "    #this is to dump hyp\n",
    "    with open(group + rule + '.hyp', 'w') as f:\n",
    "        for i in ruleN_result:\n",
    "            f.write(i[\"prediction\"])\n",
    "            f.write(\"\\n\")\n",
    "\n",
    "    #this is to dump ref\n",
    "    with open(group + rule + '.ref', 'w') as f:\n",
    "        for i in ruleN_result:\n",
    "            f.write(i[\"actual\"])\n",
    "            f.write(\"\\n\")"
   ]
  },
  {
   "cell_type": "code",
   "execution_count": null,
   "id": "6dc1da15",
   "metadata": {},
   "outputs": [],
   "source": [
    "folder_path = pwd + \"td_corpus_digits/SNR35dB/man/seq1digit_200_files/\"\n",
    "man1digit = find_files(\".raw\",folder_path)\n",
    "processWav(man1digit, \"rule1\", group=\"man_\")\n",
    "folder_path = pwd + \"td_corpus_digits/SNR35dB/woman/seq1digit_200_files/\"\n",
    "woman1digit = find_files(\".raw\",folder_path)\n",
    "processWav(woman1digit, \"rule1\", group=\"woman_\")\n",
    "folder_path = pwd + \"td_corpus_digits/SNR35dB/boy/seq1digit_200_files/\"\n",
    "boy1digit = find_files(\".raw\",folder_path)\n",
    "processWav(boy1digit, \"rule1\", group=\"boy_\")\n",
    "folder_path = pwd + \"td_corpus_digits/SNR35dB/girl/seq1digit_200_files/\"\n",
    "girl1digit = find_files(\".raw\",folder_path)\n",
    "processWav(girl1digit, \"rule1\", group=\"girl_\")"
   ]
  },
  {
   "cell_type": "code",
   "execution_count": 9,
   "id": "6db06311",
   "metadata": {},
   "outputs": [
    {
     "name": "stdout",
     "output_type": "stream",
     "text": [
      "0.9775469298197402\n",
      "3.0205628614547986\n",
      "6.256284999902098\n",
      "5.206004994235022\n"
     ]
    }
   ],
   "source": [
    "conf_interval_man_rule1 = calculate_CI(0.005, 200)\n",
    "print(conf_interval_man_rule1*100)\n",
    "conf_interval_woman_rule1 = calculate_CI(0.050, 200)\n",
    "print(conf_interval_woman_rule1*100)\n",
    "conf_interval_girl_rule1 = calculate_CI(0.2850, 200)\n",
    "print(conf_interval_girl_rule1*100)\n",
    "conf_interval_boy_rule1 = calculate_CI(0.170, 200)\n",
    "print(conf_interval_boy_rule1*100)"
   ]
  },
  {
   "cell_type": "code",
   "execution_count": null,
   "id": "e3e97d90",
   "metadata": {},
   "outputs": [],
   "source": [
    "folder_path = pwd + \"td_corpus_digits/SNR35dB/man/seq3digits_100_files/\"\n",
    "man3digit = find_files(\".raw\",folder_path)\n",
    "processWav(man3digit, \"rule3\", group=\"man_\")\n",
    "folder_path = pwd + \"td_corpus_digits/SNR35dB/woman/seq3digits_100_files/\"\n",
    "woman3digit = find_files(\".raw\",folder_path)\n",
    "processWav(woman3digit, \"rule3\", group=\"woman_\")\n",
    "folder_path = pwd + \"td_corpus_digits/SNR35dB/boy/seq3digits_100_files/\"\n",
    "boy3digit = find_files(\".raw\",folder_path)\n",
    "processWav(boy3digit, \"rule3\", group=\"boy_\")\n",
    "folder_path = pwd + \"td_corpus_digits/SNR35dB/girl/seq3digits_100_files/\"\n",
    "girl3digit = find_files(\".raw\",folder_path)\n",
    "processWav(girl3digit, \"rule3\", group=\"girl_\")"
   ]
  },
  {
   "cell_type": "code",
   "execution_count": 10,
   "id": "d8419117",
   "metadata": {},
   "outputs": [
    {
     "name": "stdout",
     "output_type": "stream",
     "text": [
      "2.5094209292536003\n",
      "4.27172096466986\n",
      "7.63706929078007\n",
      "6.998599859971994\n"
     ]
    }
   ],
   "source": [
    "conf_interval_man_rule3 = calculate_CI(0.01667, 100)\n",
    "print(conf_interval_man_rule3*100)\n",
    "conf_interval_woman_rule3 = calculate_CI(0.05, 100)\n",
    "print(conf_interval_woman_rule3*100)\n",
    "conf_interval_girl_rule3 = calculate_CI(0.18667, 100)\n",
    "print(conf_interval_girl_rule3*100)\n",
    "conf_interval_boy_rule3 = calculate_CI(0.150, 100)\n",
    "print(conf_interval_boy_rule3*100)"
   ]
  },
  {
   "cell_type": "code",
   "execution_count": null,
   "id": "980895e0",
   "metadata": {},
   "outputs": [],
   "source": [
    "folder_path = pwd + \"td_corpus_digits/SNR35dB/man/seq5digits_100_files/\"\n",
    "man5digit = find_files(\".raw\",folder_path)\n",
    "processWav(man5digit, \"rule5\", group=\"man_\")\n",
    "folder_path = pwd + \"td_corpus_digits/SNR35dB/woman/seq5digits_100_files/\"\n",
    "woman5digit = find_files(\".raw\",folder_path)\n",
    "processWav(woman5digit, \"rule5\", group=\"woman_\")\n",
    "folder_path = pwd + \"td_corpus_digits/SNR35dB/boy/seq5digits_100_files/\"\n",
    "boy5digit = find_files(\".raw\",folder_path)\n",
    "processWav(boy5digit, \"rule5\", group=\"boy_\")\n",
    "folder_path = pwd + \"td_corpus_digits/SNR35dB/girl/seq5digits_100_files/\"\n",
    "girl5digit = find_files(\".raw\",folder_path)\n",
    "processWav(girl5digit, \"rule5\", group=\"girl_\")"
   ]
  },
  {
   "cell_type": "code",
   "execution_count": 11,
   "id": "eaa34b6c",
   "metadata": {},
   "outputs": [
    {
     "name": "stdout",
     "output_type": "stream",
     "text": [
      "1.950175376728975\n",
      "2.874993314774836\n",
      "7.926837089280944\n",
      "6.459798436483913\n"
     ]
    }
   ],
   "source": [
    "conf_interval_man_rule5 = calculate_CI(0.01, 100)\n",
    "print(conf_interval_man_rule5*100)\n",
    "conf_interval_woman_rule5 = calculate_CI(0.022, 100)\n",
    "print(conf_interval_woman_rule5*100)\n",
    "conf_interval_girl_rule5 = calculate_CI(0.2060, 100)\n",
    "print(conf_interval_girl_rule5*100)\n",
    "conf_interval_boy_rule5 = calculate_CI(0.1240, 100)\n",
    "print(conf_interval_boy_rule5*100)"
   ]
  }
 ],
 "metadata": {
  "interpreter": {
   "hash": "62c5ad4e87eec4c5a17c3572f52b7ecf3c74993b0a3e5f72d27ab19a1fb42cb4"
  },
  "kernelspec": {
   "display_name": "Python 3 (ipykernel)",
   "language": "python",
   "name": "python3"
  },
  "language_info": {
   "codemirror_mode": {
    "name": "ipython",
    "version": 3
   },
   "file_extension": ".py",
   "mimetype": "text/x-python",
   "name": "python",
   "nbconvert_exporter": "python",
   "pygments_lexer": "ipython3",
   "version": "3.10.6"
  },
  "vscode": {
   "interpreter": {
    "hash": "916dbcbb3f70747c44a77c7bcd40155683ae19c65e1c03b4aa3499c5328201f1"
   }
  }
 },
 "nbformat": 4,
 "nbformat_minor": 5
}
