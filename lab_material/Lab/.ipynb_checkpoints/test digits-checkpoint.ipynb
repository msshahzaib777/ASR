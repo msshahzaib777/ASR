{
 "cells": [
  {
   "cell_type": "code",
   "execution_count": 5,
   "id": "a30cc50b",
   "metadata": {},
   "outputs": [],
   "source": [
    "from os import environ, path, walk\n",
    "from pocketsphinx import *\n",
    "from sphinxbase import *\n",
    "import fnmatch\n",
    "relative_path = \"../ps_data\""
   ]
  },
  {
   "cell_type": "code",
   "execution_count": 6,
   "id": "44fa337d-7773-400d-8d97-79c1a00b8455",
   "metadata": {},
   "outputs": [],
   "source": [
    "def create_decoder_ngram():\n",
    "    \"\"\"Create a decoder based on the Ngram language model\"\"\"\n",
    "    config = Decoder.default_config()\n",
    "    config.set_string('-hmm',  relative_path +'/model/en-us')  # acoustic model\n",
    "    config.set_string('-dict', relative_path +'/lex/turtle.dict')  # lexicon / dictionary\n",
    "    config.set_string('-lm', relative_path +'/lm/turtle.lm.bin')  # language model\n",
    "    decoder_ngram = Decoder(config)\n",
    "    return decoder_ngram"
   ]
  },
  {
   "cell_type": "code",
   "execution_count": 6,
   "id": "ac36766d-9fd7-47b5-a644-7c534809f8b4",
   "metadata": {},
   "outputs": [],
   "source": [
    "def create_decoder_goforward():\n",
    "    \"\"\"Create a decoder based on the goforward custom grammar\"\"\"\n",
    "    config = Decoder.default_config()\n",
    "    config.set_string('-hmm', relative_path +'/model/en-us')  # acoustic model\n",
    "    config.set_string('-dict', relative_path +'/lex/turtle.dict')  # lexicon / dictionary\n",
    "    decoder_gofwd = Decoder(config)\n",
    "\n",
    "    # Now we use a custom language model\n",
    "    # Prepare the grammar to be used\n",
    "    jsgf = Jsgf(relative_path +'/jsgf/goforward.jsgf')  # load the grammar file\n",
    "    rule = jsgf.get_rule('goforward.move2')  # choose the rule\n",
    "    fsg = jsgf.build_fsg(rule, decoder_gofwd.get_logmath(), 7.5)  # build the grammar rule\n",
    "    fsg.writefile('../outputs/goforward.fsg')  # write the compiled grammar rule as an external file\n",
    "\n",
    "    # Now set the fsg grammar rule in the decoder\n",
    "    decoder_gofwd.set_fsg(\"../outputs/goforward\", fsg)  # load the pre-recorded compiled grammar rule in the decoder\n",
    "    decoder_gofwd.set_search(\"../outputs/goforward\")  # and set it as the grammar to use\n",
    "\n",
    "    return decoder_gofwd"
   ]
  },
  {
   "cell_type": "code",
   "execution_count": 7,
   "id": "39191657",
   "metadata": {},
   "outputs": [
    {
     "ename": "NameError",
     "evalue": "name 'create_decoder_goforward' is not defined",
     "output_type": "error",
     "traceback": [
      "\u001b[0;31m---------------------------------------------------------------------------\u001b[0m",
      "\u001b[0;31mNameError\u001b[0m                                 Traceback (most recent call last)",
      "Input \u001b[0;32mIn [7]\u001b[0m, in \u001b[0;36m<cell line: 6>\u001b[0;34m()\u001b[0m\n\u001b[1;32m      2\u001b[0m file_path \u001b[38;5;241m=\u001b[39m relative_path \u001b[38;5;241m+\u001b[39m\u001b[38;5;124m'\u001b[39m\u001b[38;5;124m/example/goforward.raw\u001b[39m\u001b[38;5;124m'\u001b[39m\n\u001b[1;32m      4\u001b[0m \u001b[38;5;66;03m# Instantiate the decoder\u001b[39;00m\n\u001b[1;32m      5\u001b[0m \u001b[38;5;66;03m# decoder = create_decoder_ngram()  # use the N-gram language model\u001b[39;00m\n\u001b[0;32m----> 6\u001b[0m decoder \u001b[38;5;241m=\u001b[39m \u001b[43mcreate_decoder_goforward\u001b[49m()  \u001b[38;5;66;03m# use the custom grammar\u001b[39;00m\n\u001b[1;32m      8\u001b[0m \u001b[38;5;66;03m# Start the decoder\u001b[39;00m\n\u001b[1;32m      9\u001b[0m decoder\u001b[38;5;241m.\u001b[39mstart_utt()\n",
      "\u001b[0;31mNameError\u001b[0m: name 'create_decoder_goforward' is not defined"
     ]
    }
   ],
   "source": [
    "# Define the path of the file to process\n",
    "file_path = relative_path +'/example/goforward.raw'\n",
    "\n",
    "# Instantiate the decoder\n",
    "decoder = create_decoder_ngram()  # use the N-gram language model\n",
    "# decoder = create_decoder_goforward()  # use the custom grammar\n",
    "\n",
    "# Start the decoder\n",
    "decoder.start_utt()\n",
    "\n",
    "# Open the file to decode\n",
    "stream = open(file_path, 'rb')\n",
    "uttbuf = stream.read(-1)\n",
    "\n",
    "# Process the file with the decoder\n",
    "if uttbuf:\n",
    "    decoder.process_raw(uttbuf, False, True)\n",
    "else:\n",
    "    print(\"Error reading speech data\")\n",
    "    exit()\n",
    "decoder.end_utt()\n",
    "\n",
    "# test for empty hypothesis and replace the output with an empty string if needed\n",
    "if decoder.hyp() is None:\n",
    "    best_hypothesis = ''\n",
    "else:\n",
    "    best_hypothesis = decoder.hyp().hypstr\n",
    "\n",
    "# Print the results\n",
    "print('Best hypothesis: ', best_hypothesis,\n",
    "      \"\\n model score: \", decoder.hyp().best_score,\n",
    "      \"\\n confidence: \", decoder.get_logmath().exp(decoder.hyp().prob))\n",
    "\n",
    "print('Best hypothesis segments: ', [seg.word for seg in decoder.seg()])\n",
    "\n",
    "# Access N best decodings\n",
    "N = 8\n",
    "print('Best ' + str(N) + ' hypothesis: ')\n",
    "for best, i in zip(decoder.nbest(), range(N)):\n",
    "    print(best.hypstr, best.score)\n"
   ]
  },
  {
   "cell_type": "code",
   "execution_count": null,
   "id": "8911d9a8-8bba-4f8b-b12d-ecfd398c9fe9",
   "metadata": {},
   "outputs": [],
   "source": []
  }
 ],
 "metadata": {
  "kernelspec": {
   "display_name": "Python 3 (ipykernel)",
   "language": "python",
   "name": "python3"
  },
  "language_info": {
   "codemirror_mode": {
    "name": "ipython",
    "version": 3
   },
   "file_extension": ".py",
   "mimetype": "text/x-python",
   "name": "python",
   "nbconvert_exporter": "python",
   "pygments_lexer": "ipython3",
   "version": "3.10.6"
  }
 },
 "nbformat": 4,
 "nbformat_minor": 5
}
