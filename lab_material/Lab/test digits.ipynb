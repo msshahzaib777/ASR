{
 "cells": [
  {
   "cell_type": "code",
   "execution_count": 1,
   "id": "a30cc50b",
   "metadata": {},
   "outputs": [],
   "source": [
    "from os import environ, path, walk\n",
    "from pocketsphinx import *\n",
    "import fnmatch\n",
    "relative_path = \"../ps_data\""
   ]
  },
  {
   "cell_type": "code",
   "execution_count": null,
   "id": "3889515c",
   "metadata": {},
   "outputs": [],
   "source": [
    "def create_decoder_ngram():\n",
    "    \"\"\"Create a decoder based on the Ngram language model\"\"\"\n",
    "    config = Decoder.default_config()\n",
    "    config.set_string('-hmm',  relative_path +'/model/en-us')  # acoustic model\n",
    "    config.set_string('-dict', relative_path +'/lex/turtle.dict')  # lexicon / dictionary\n",
    "    config.set_string('-lm', relative_path +'/lm/turtle.lm.bin')  # language model\n",
    "    decoder_ngram = Decoder(config)\n",
    "    return decoder_ngram"
   ]
  },
  {
   "cell_type": "code",
   "execution_count": null,
   "id": "39191657",
   "metadata": {},
   "outputs": [],
   "source": [
    "\n",
    "# Define the path of the file to process\n",
    "file_path = relative_path +'/example/goforward.raw'\n",
    "\n",
    "# Instantiate the decoder\n",
    "# decoder = create_decoder_ngram()  # use the N-gram language model\n",
    "decoder = create_decoder_goforward()  # use the custom grammar\n",
    "\n",
    "# Start the decoder\n",
    "decoder.start_utt()\n",
    "\n",
    "# Open the file to decode\n",
    "stream = open(file_path, 'rb')\n",
    "uttbuf = stream.read(-1)\n",
    "\n",
    "# Process the file with the decoder\n",
    "if uttbuf:\n",
    "    decoder.process_raw(uttbuf, False, True)\n",
    "else:\n",
    "    print(\"Error reading speech data\")\n",
    "    exit()\n",
    "decoder.end_utt()\n",
    "\n",
    "# test for empty hypothesis and replace the output with an empty string if needed\n",
    "if decoder.hyp() is None:\n",
    "    best_hypothesis = ''\n",
    "else:\n",
    "    best_hypothesis = decoder.hyp().hypstr\n",
    "\n",
    "# Print the results\n",
    "print('Best hypothesis: ', best_hypothesis,\n",
    "      \"\\n model score: \", decoder.hyp().best_score,\n",
    "      \"\\n confidence: \", decoder.get_logmath().exp(decoder.hyp().prob))\n",
    "\n",
    "print('Best hypothesis segments: ', [seg.word for seg in decoder.seg()])\n",
    "\n",
    "# Access N best decodings\n",
    "N = 8\n",
    "print('Best ' + str(N) + ' hypothesis: ')\n",
    "for best, i in zip(decoder.nbest(), range(N)):\n",
    "    print(best.hypstr, best.score)\n"
   ]
  }
 ],
 "metadata": {
  "kernelspec": {
   "display_name": "Python 3 (ipykernel)",
   "language": "python",
   "name": "python3"
  },
  "language_info": {
   "codemirror_mode": {
    "name": "ipython",
    "version": 3
   },
   "file_extension": ".py",
   "mimetype": "text/x-python",
   "name": "python",
   "nbconvert_exporter": "python",
   "pygments_lexer": "ipython3",
   "version": "3.10.6"
  }
 },
 "nbformat": 4,
 "nbformat_minor": 5
}
